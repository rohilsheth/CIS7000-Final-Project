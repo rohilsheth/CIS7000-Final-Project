{
 "cells": [
  {
   "cell_type": "code",
   "execution_count": 2,
   "metadata": {},
   "outputs": [],
   "source": [
    "import time\n",
    "import pandas as pd\n",
    "import openai\n",
    "import csv\n",
    "import os"
   ]
  },
  {
   "cell_type": "code",
   "execution_count": 3,
   "metadata": {},
   "outputs": [
    {
     "name": "stdout",
     "output_type": "stream",
     "text": [
      "Enter OpenAI API key:\n"
     ]
    }
   ],
   "source": [
    "print('Enter OpenAI API key:')\n",
    "openai.api_key = input()\n",
    "\n",
    "os.environ['OPENAI_API_KEY']=openai.api_key"
   ]
  },
  {
   "cell_type": "code",
   "execution_count": 23,
   "metadata": {},
   "outputs": [],
   "source": [
    "#open a csv file and read contents into a list\n",
    "notes = pd.read_csv('notes.csv', header=None)   "
   ]
  },
  {
   "cell_type": "code",
   "execution_count": 34,
   "metadata": {},
   "outputs": [],
   "source": [
    "#send each line of the df to an OpenAI GPT-3 API call to generate a chat responce\n",
    "base_prompt = \"You are an assistant for a doctor writing the discharge note for a patient to understand. This should include what happened in the visit, what they should do at home, and any medication they need to take upon release. Make sure to specify any medication changes. Assume the patient has a 5th grade level of medical understanding. Here is their clinical history: \\n\\n\"\n",
    "specificInstructions = \"Write out the full words for any medical abbreviations in the clinical history and and use generic medicine names.  Make sure to specify any medication changes\"\n",
    "special_instructions =  \"\\n\\n And here are specific instructions that the doctor has specified: \" + specificInstructions\n",
    "\n",
    "responses = []\n",
    "\n",
    "for index, row in notes.iterrows():\n",
    "    prompt = base_prompt + row[0] + special_instructions\n",
    "    response = openai.ChatCompletion.create(\n",
    "        model= \"gpt-4\",\n",
    "        messages= [{\"role\": \"user\", \"content\": prompt}],\n",
    "    )\n",
    "    responses.append(response.choices[0].message['content'])\n",
    "    time.sleep(1)"
   ]
  },
  {
   "cell_type": "code",
   "execution_count": 35,
   "metadata": {},
   "outputs": [
    {
     "name": "stdout",
     "output_type": "stream",
     "text": [
      "['Dear John Smith,\\n\\nDuring your hospital stay from June 15th to June 19th, 2022, you visited our eye doctor (Ophthalmologist) because of problems with your vision. You mentioned having trouble focusing, seeing floating spots and flashes of light, and a decrease in the quality of your side (peripheral) vision. After conducting some tests, you were diagnosed with a condition called retinal detachment.\\n\\nWe performed a successful surgery to fix the detached retina in your eye. After the surgery, your vision improved and the problems you had been experiencing were significantly reduced.\\n\\nBefore your stay in the hospital, you were taking the following medications:\\n\\n1. Lithium 600mg by mouth, twice a day\\n2. Metformin 1000mg by mouth, twice a day\\n3. Lisinopril 10mg by mouth, once a day\\n4. Amlodipine 5mg by mouth, once a day\\n\\nUpon being discharged from the hospital, you will continue taking the same medications as before. Additionally, you will need to start two new eye medications to help your eye heal:\\n\\n5. Prednisolone Acetate 1% Eye Drops: use 1 drop in the affected eye, four times a day for 10 days\\n6. Erythromycin Ophthalmic ointment 0.5%: apply a 1cm line of ointment into the affected eye, four times a day for 7 days\\n\\nAfter leaving the hospital, you can return home. Please be cautious while walking around and avoid activities that may strain your eyes. A follow-up appointment should be scheduled with your eye doctor in 2 weeks to check on your progress. \\n\\nWe hope that you continue to feel better and have a smooth recovery. If you have any concerns or questions, please reach out to your healthcare team.\\n\\nSincerely,\\n\\nThe Discharge Team at ABC General Hospital']\n"
     ]
    }
   ],
   "source": [
    "print(responses)"
   ]
  },
  {
   "cell_type": "code",
   "execution_count": 36,
   "metadata": {},
   "outputs": [],
   "source": [
    "#save the responses to a csv file\n",
    "with open(\"discharge_instructions.csv\", \"w\") as f:\n",
    "    write = csv.writer(f)\n",
    "    write.writerow(responses)"
   ]
  },
  {
   "cell_type": "code",
   "execution_count": 40,
   "metadata": {},
   "outputs": [
    {
     "name": "stdout",
     "output_type": "stream",
     "text": [
      "{\n",
      "  \"content\": \"Using the PEMAT-P assessment framework, this discharge note scores a 90 out of 100. The note is clear, concise, uses simple language, and covers important details about the patient's diagnosis, treatment, and medications. It also includes relevant instructions for post-hospital care and follow-up appointments. However, there is room for improvement in terms of more detailed instructions on activity restrictions, signs of potential complications to watch out for, and contact information for the healthcare team.\",\n",
      "  \"role\": \"assistant\"\n",
      "}\n"
     ]
    }
   ],
   "source": [
    "#use chatGPT to evaluate each discharge instruction on the PEMAT-P system\n",
    "for inst in responses:\n",
    "    prompt = \"You are a research assistant using the PEMAT-P assessment framework to evaluate this discharge note according to the 26 provided metrics in the PEMAT-P framework. Just an overall PEMAT-P score out of 100 \\n\\n\" + inst\n",
    "    response = openai.ChatCompletion.create(\n",
    "        model= \"gpt-4\",\n",
    "        messages= [{\"role\": \"user\", \"content\": prompt}],\n",
    "    )\n",
    "    print(response.choices[0].message)\n",
    "    time.sleep(1)\n"
   ]
  },
  {
   "cell_type": "code",
   "execution_count": 4,
   "metadata": {},
   "outputs": [
    {
     "name": "stdout",
     "output_type": "stream",
     "text": [
      "{\n",
      "  \"content\": \"I. Introduction\\n    A. Brief background of the film 'Sorry to Bother You'\\n        1. Release date and director\\n        2. Main actors and their roles\\n        3. Short plot summary\\n    B. Significance of the film in contemporary society\\n    C. Aim and scope of the research paper\\n\\nII. The American Dream and Capitalism\\n    A. The portrayal of the American Dream in the film\\n        1. The protagonist's journey\\n        2. The concept of success in the film\\n    B. The critique of capitalism\\n        1. The role of corporations in the film\\n        2. The film's representation of wealth and exploitation\\n\\nIII. Race and Code-switching\\n    A. The representation of race in the film\\n        1. The experiences of the characters of different racial backgrounds\\n        2. The role of race in the workplace\\n    B. Code-switching as a means of survival and success\\n        1. The protagonist's use of a \\\"white voice\\\"\\n        2. The implications of code-switching in the film\\n\\nIV. Labor Movements and Resistance\\n    A. The role of labor unions in the film\\n        1. The formation of the union and its objectives\\n        2. The portrayal of labor activism\\n    B. The themes of resistance and solidarity\\n        1. Scenes depicting collective actions and protests\\n        2. The film's message about activism and fighting against oppression\\n\\nV. Dehumanization and Commodification\\n    A. The process of dehumanization in the film\\n        1. The treatment of workers in the film\\n        2. The creation of \\\"Equisapiens\\\" as a symbol of dehumanization\\n    B. The commodification of human beings\\n        1. The sale of human labor as a commodity\\n        2. The reduction of human beings to mere objects in the film\\n\\nVI. The Role of Art and Media\\n    A. The portrayal of art and its purpose in the film\\n        1. The protagonist's use of art to express himself\\n        2. The film's critique of contemporary art culture\\n    B. The influence of media and how it is depicted in the film\\n        1. The role of advertisements and media exposure\\n        2. The film's commentary on media's impact on society\\n\\nVII. The Surrealist Approach\\n    A. The use of surrealism in the film\\n        1. The role of imaginary elements in the plot\\n        2. The film's connection to the Afro-Surrealism movement\\n    B. The significance and impact of the film's surrealist approach\\n        1. Why the film has been successful in engaging audiences \\n        2. The potential implications of the use of surrealism in future films\\n\\nVIII. Conclusion\\n    A. Summary of the main themes of the film 'Sorry to Bother You'\\n    B. The significance of these themes in today's society and discourse\\n    C. The potential impact of the film on future cinematic works and discussions\",\n",
      "  \"role\": \"assistant\"\n",
      "}\n"
     ]
    }
   ],
   "source": [
    "prompt = \"Provide an outline for a 8-10 page research paper analysing the themes of the film 'Sorry to Bother you'\"\n",
    "response = openai.ChatCompletion.create(\n",
    "        model= \"gpt-4\",\n",
    "        messages= [{\"role\": \"user\", \"content\": prompt}],\n",
    ")\n",
    "print(response.choices[0].message)"
   ]
  },
  {
   "cell_type": "code",
   "execution_count": 5,
   "metadata": {},
   "outputs": [
    {
     "name": "stdout",
     "output_type": "stream",
     "text": [
      "I. Introduction\n",
      "    A. Brief background of the film 'Sorry to Bother You'\n",
      "        1. Release date and director\n",
      "        2. Main actors and their roles\n",
      "        3. Short plot summary\n",
      "    B. Significance of the film in contemporary society\n",
      "    C. Aim and scope of the research paper\n",
      "\n",
      "II. The American Dream and Capitalism\n",
      "    A. The portrayal of the American Dream in the film\n",
      "        1. The protagonist's journey\n",
      "        2. The concept of success in the film\n",
      "    B. The critique of capitalism\n",
      "        1. The role of corporations in the film\n",
      "        2. The film's representation of wealth and exploitation\n",
      "\n",
      "III. Race and Code-switching\n",
      "    A. The representation of race in the film\n",
      "        1. The experiences of the characters of different racial backgrounds\n",
      "        2. The role of race in the workplace\n",
      "    B. Code-switching as a means of survival and success\n",
      "        1. The protagonist's use of a \"white voice\"\n",
      "        2. The implications of code-switching in the film\n",
      "\n",
      "IV. Labor Movements and Resistance\n",
      "    A. The role of labor unions in the film\n",
      "        1. The formation of the union and its objectives\n",
      "        2. The portrayal of labor activism\n",
      "    B. The themes of resistance and solidarity\n",
      "        1. Scenes depicting collective actions and protests\n",
      "        2. The film's message about activism and fighting against oppression\n",
      "\n",
      "V. Dehumanization and Commodification\n",
      "    A. The process of dehumanization in the film\n",
      "        1. The treatment of workers in the film\n",
      "        2. The creation of \"Equisapiens\" as a symbol of dehumanization\n",
      "    B. The commodification of human beings\n",
      "        1. The sale of human labor as a commodity\n",
      "        2. The reduction of human beings to mere objects in the film\n",
      "\n",
      "VI. The Role of Art and Media\n",
      "    A. The portrayal of art and its purpose in the film\n",
      "        1. The protagonist's use of art to express himself\n",
      "        2. The film's critique of contemporary art culture\n",
      "    B. The influence of media and how it is depicted in the film\n",
      "        1. The role of advertisements and media exposure\n",
      "        2. The film's commentary on media's impact on society\n",
      "\n",
      "VII. The Surrealist Approach\n",
      "    A. The use of surrealism in the film\n",
      "        1. The role of imaginary elements in the plot\n",
      "        2. The film's connection to the Afro-Surrealism movement\n",
      "    B. The significance and impact of the film's surrealist approach\n",
      "        1. Why the film has been successful in engaging audiences \n",
      "        2. The potential implications of the use of surrealism in future films\n",
      "\n",
      "VIII. Conclusion\n",
      "    A. Summary of the main themes of the film 'Sorry to Bother You'\n",
      "    B. The significance of these themes in today's society and discourse\n",
      "    C. The potential impact of the film on future cinematic works and discussions\n"
     ]
    }
   ],
   "source": [
    "print(response.choices[0].message['content'])"
   ]
  }
 ],
 "metadata": {
  "kernelspec": {
   "display_name": "base",
   "language": "python",
   "name": "python3"
  },
  "language_info": {
   "codemirror_mode": {
    "name": "ipython",
    "version": 3
   },
   "file_extension": ".py",
   "mimetype": "text/x-python",
   "name": "python",
   "nbconvert_exporter": "python",
   "pygments_lexer": "ipython3",
   "version": "3.9.7"
  },
  "orig_nbformat": 4
 },
 "nbformat": 4,
 "nbformat_minor": 2
}
