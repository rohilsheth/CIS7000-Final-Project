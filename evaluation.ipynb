{
 "cells": [
  {
   "cell_type": "code",
   "execution_count": 1,
   "metadata": {},
   "outputs": [],
   "source": [
    "import time\n",
    "import pandas as pd\n",
    "import openai\n",
    "import csv\n",
    "import os\n",
    "import pickle"
   ]
  },
  {
   "cell_type": "code",
   "execution_count": 2,
   "metadata": {},
   "outputs": [
    {
     "name": "stdout",
     "output_type": "stream",
     "text": [
      "Enter OpenAI API key:\n"
     ]
    }
   ],
   "source": [
    "print('Enter OpenAI API key:')\n",
    "openai.api_key = input()\n",
    "\n",
    "os.environ['OPENAI_API_KEY']=openai.api_key"
   ]
  },
  {
   "cell_type": "code",
   "execution_count": 4,
   "metadata": {},
   "outputs": [
    {
     "name": "stdout",
     "output_type": "stream",
     "text": [
      "5\n"
     ]
    }
   ],
   "source": [
    "# #open a csv file and read contents into a list\n",
    "# notes = pd.read_csv('notes.csv', header=None)   \n",
    "with open('notes.pkl', 'rb') as f:\n",
    "    data = pickle.load(f)\n",
    "print(len(data[:5]))"
   ]
  },
  {
   "cell_type": "code",
   "execution_count": 5,
   "metadata": {},
   "outputs": [],
   "source": [
    "#send each line of the df to an OpenAI GPT-3 API call to generate a chat responce\n",
    "base_prompt = \"You are an assistant for a doctor writing the discharge note for a patient to understand. This should include what happened in the visit, what they should do at home, and any medication they need to take upon release. Make sure to specify any medication changes. Assume the patient has a 5th grade level of medical understanding. Here is their clinical history: \\n\\n\"\n",
    "specificInstructions = \"Write out the full words for any medical abbreviations in the clinical history and and use generic medicine names.  Make sure to specify any medication changes\"\n",
    "special_instructions =  \"\\n\\n And here are specific instructions that the doctor has specified: \" + specificInstructions\n",
    "\n",
    "responses = []\n",
    "\n",
    "for row in data[:5]:\n",
    "    prompt = base_prompt + row[0] + special_instructions\n",
    "    response = openai.ChatCompletion.create(\n",
    "        model= \"gpt-4\",\n",
    "        messages= [{\"role\": \"user\", \"content\": prompt}],\n",
    "    )\n",
    "    responses.append(response.choices[0].message['content'])\n",
    "    time.sleep(1)"
   ]
  },
  {
   "cell_type": "code",
   "execution_count": 6,
   "metadata": {},
   "outputs": [
    {
     "name": "stdout",
     "output_type": "stream",
     "text": [
      "[\"Dear [Patient's Name],\\n\\nDuring your visit to the doctor, we talked about your high blood pressure (also called hypertension) and high cholesterol levels. These conditions can affect your heart and blood vessels, making it difficult for your blood to flow easily. To help you feel better and lower these levels, we discussed the following instructions for you to follow at home and medications you need to take.\\n\\nAt home, it is important to focus on a healthy lifestyle. You should:\\n\\n1. Eat a diet that is low in salt, fat, and cholesterol. This means choosing more fruits, vegetables, whole grains, and lean proteins. You should avoid or limit fast food, fried food, and sugary treats.\\n\\n2. Get regular exercise by being active for at least 30 minutes a day, 5 days a week. You can go for a brisk walk, swim, or bicycle, for example.\\n\\n3. Maintain a healthy weight. If you are overweight, try to lose weight slowly by eating healthier and exercising more.\\n\\n4. Limit alcohol to no more than 1-2 drinks a day.\\n\\n5. Don't smoke. If you do smoke, try to quit.\\n\\n6. Keep track of your blood pressure and cholesterol levels regularly. This will help you and your doctor monitor your progress.\\n\\nYour doctor has prescribed the following medications and changes:\\n\\n1. For your high blood pressure, you need to take a medicine called Amlodipine. Make sure to take one tablet every day, as directed by your doctor.\\n\\n2. For your high cholesterol, you need to take a medicine called Atorvastatin at night. You were previously on a medicine called Simvastatin, but now the doctor has changed it to Atorvastatin. Make sure to stop taking Simvastatin and start taking the new medicine as advised by your doctor.\\n\\nIt is very important to follow the instructions given by your doctor and take your medications regularly as directed. If you have any questions or concerns, please do not hesitate to contact your doctor.\\n\\nWe wish you the best of health!\\n\\nSincerely,\\n\\n[Your Name]\\n[Doctor's Assistant]\", \"Dear Patient,\\n\\nWe hope you are feeling better after coming to visit us in the clinic. We would like to tell you what happened during the visit, what you should do when you go home, and also about any changes or new medications that you may need.\\n\\nWhen you came in to see the doctor, you complained of having some chest pain and problems with breathing. After the doctor listened to your heart, you were diagnosed with congestive heart failure. This means that your heart is not able to pump blood as well as it should. The doctor has started you on a medication called enalapril, which helps to relax your blood vessels and lower your blood pressure, making it easier for your heart to pump the blood.\\n\\nNow that you are going home, there are some things you should do to help you get better:\\n\\n1. It is very important that you follow a low salt (sodium) diet, because too much salt can make your condition worse by causing swelling and water build-up in the body.\\n2. Keep an eye on your weight every day. A sudden weight gain may mean that you have extra fluid in your body, and your doctor needs to know about it.\\n3. Try to do some gentle exercises like walking, but don't get too tired or do things that make your chest pain or breathing problems worse.\\n\\nYou need to take your prescribed medications exactly as the doctor has instructed:\\n\\n1. Enalapril: Take the enalapril one time each day. This helps relax your blood vessels and make it easier for your heart to pump blood.\\n2. If you are currently taking any other medications, you must continue taking them unless the doctor has specifically instructed otherwise. If there is any change in your other medications, the doctor would have told you during your visit and it should be mentioned in your other discharge papers.\\n\\nRemember, your health is very important to us, and we want to make sure you are doing well. So, make sure to follow all the instructions given by the doctor and don't hesitate to call the clinic or return for a follow-up visit if needed. Take care, and we hope you feel better soon!\\n\\nSincerely,\\n\\n[Doctor's Name] and Team\", \"Dear [Patient's Name],\\n\\nI hope you are feeling well. During your visit today, we discussed your health, and I would like to provide you with information about your diagnosis, things you should do at home, and medication instructions.\\n\\nVisit Summary:\\nDuring your visit, we talked about your symptoms, checked your vital signs (blood pressure, pulse, and temperature), and performed a physical examination. After reviewing your clinical history and symptoms, I made the diagnosis of [diagnosis].\\n\\nWhat to do at home:\\n1. Follow a healthy lifestyle by eating a balanced diet, staying physically active, getting enough sleep, and maintaining a healthy weight.\\n2. Make sure to stay hydrated by drinking enough water each day.\\n3. Keep an eye on your symptoms and let us know right away if they worsen or you experience new symptoms.\\n4. Follow the medication instructions as detailed below.\\n\\nMedication Instructions:\\nYour medication has now been changed. Please follow these new instructions for your medication:\\n1. [Old medication name]: Please stop taking this medicine.\\n2. [New medication name - generic]: Start taking this medicine according to the recommended dosage. Usually, take it [number] time(s) each day. Make sure to follow the instructions on the label.\\n\\nExample: If you were taking High-Blood-Pressure-Med 1 and will now be taking Amlodipine, the instruction will be:\\n1. High-Blood-Pressure-Med 1: Please stop taking this medicine.\\n2. Amlodipine: Start taking this medicine once a day, as recommended. Make sure to follow the instructions on the label.\\n\\nRemember to contact the doctor's office if you have any questions or concerns about your medication, or if you experience any unusual side effects.\\n\\nI hope this information helps you understand the changes to your medication and the steps you need to take for your health. It is essential to follow these instructions and to keep in touch with us. Please schedule a follow-up appointment with the doctor in [timeframe for follow-up], so we can continue monitoring your progress and make any necessary adjustments to your treatment plan.\\n\\nSincerely,\\n\\n[Your Doctor's Name and contact information]\", \"Dear [Patient's Name],\\n\\nDuring your visit with Dr. [Doctor's Name], we discussed your health and conducted several tests to help us better understand your situation. I am writing this note to summarize what happened during your visit, what you should do at home to continue taking care of yourself, and any medications you need to take.\\n\\nDuring your visit, we found that you are experiencing a condition called hypertension, also known as high blood pressure. High blood pressure means that the force of the blood against the walls of your blood vessels is too strong. This can cause health problems if not properly treated.\\n\\nHere's what you should do at home to help control your blood pressure:\\n\\n1. Eat a healthy diet that includes plenty of fruits, vegetables, and whole grains.\\n2. Limit your salt intake by avoiding processed foods and using less salt when cooking.\\n3. Exercise regularly, aiming for at least 30 minutes a day, most days of the week.\\n4. Maintain a healthy weight, losing weight if you are overweight.\\n5. Reduce stress by practicing relaxation techniques or finding activities you enjoy.\\n\\nDr. [Doctor's Name] has prescribed a medication called amlodipine to help lower your blood pressure. Take one 5mg tablet once a day, as instructed. It's important to take this medication every day at the same time to ensure that it works properly.\\n\\nPlease note that there have been some changes to your medications:\\n\\n1. If you were previously taking lisinopril for your blood pressure, please stop taking it and switch to amlodipine.\\n2. Continue taking any other medications you were prescribed, unless Dr. [Doctor's Name] said otherwise during your visit.\\n\\nIt is crucial to follow these instructions and make the necessary lifestyle changes to manage your blood pressure. Regularly check your blood pressure at home and keep a record of the readings. Schedule a follow-up appointment with Dr. [Doctor's Name] in one month to reassess your blood pressure.\\n\\nIf you have any questions or concerns about your condition or medications, please do not hesitate to contact our office.\\n\\nSincerely,\\n\\n[Your Name]\\nAssistant to Dr. [Doctor's Name]\", \"Dear Patient,\\n\\nDuring your visit today, we talked about your clinical history and did a checkup to see how you are doing. We noticed that you have Normal blood pressure, which is good news! We also found that you have a fever, and your heart beats a little faster than usual - this is called Tachycardia. The doctor thinks that you might have a small infection.\\n\\nTo help you get better, the doctor wants you to do a few things at home:\\n\\n1. Rest: Make sure to get plenty of sleep and rest to help your body recover.\\n\\n2. Stay hydrated: Drink lots of water and healthy fluids to stay hydrated and help your body fight the infection.\\n\\n3. Cool compress: If your fever makes you feel too hot, you can put a cool, damp cloth on your forehead to help you feel better.\\n\\nThe doctor has also prescribed you some medications to take after you leave the hospital:\\n\\n1. Acetaminophen: This is a medicine that will help you with your fever and any pain you may be feeling. You should take one pill every 4 to 6 hours, or as needed.\\n\\n2. Ibuprofen: This is another medicine that can help with your fever and pain. You should take one pill every 6 to 8 hours, or as needed. Make sure not to take both Acetaminophen and Ibuprofen at the same time, space them out if needed.\\n\\nPlease remember that if your fever lasts more than 3 days or if you start to feel worse, make sure to come back to the hospital or call the doctor.\\n\\nWe hope you start to feel better soon!\\n\\nSincerely,\\n[Doctor's Name]'s Assistant\"]\n"
     ]
    }
   ],
   "source": [
    "print(responses)"
   ]
  },
  {
   "cell_type": "code",
   "execution_count": 7,
   "metadata": {},
   "outputs": [],
   "source": [
    "#save the responses to a csv file\n",
    "with open(\"discharge_instructions.csv\", \"w\") as f:\n",
    "    write = csv.writer(f)\n",
    "    write.writerow(responses)"
   ]
  },
  {
   "cell_type": "code",
   "execution_count": 40,
   "metadata": {},
   "outputs": [
    {
     "name": "stdout",
     "output_type": "stream",
     "text": [
      "{\n",
      "  \"content\": \"Using the PEMAT-P assessment framework, this discharge note scores a 90 out of 100. The note is clear, concise, uses simple language, and covers important details about the patient's diagnosis, treatment, and medications. It also includes relevant instructions for post-hospital care and follow-up appointments. However, there is room for improvement in terms of more detailed instructions on activity restrictions, signs of potential complications to watch out for, and contact information for the healthcare team.\",\n",
      "  \"role\": \"assistant\"\n",
      "}\n"
     ]
    }
   ],
   "source": [
    "#use chatGPT to evaluate each discharge instruction on the PEMAT-P system\n",
    "for inst in responses:\n",
    "    prompt = \"You are a research assistant using the PEMAT-P assessment framework to evaluate this discharge note according to the 26 provided metrics in the PEMAT-P framework. Just an overall PEMAT-P score out of 100 \\n\\n\" + inst\n",
    "    response = openai.ChatCompletion.create(\n",
    "        model= \"gpt-4\",\n",
    "        messages= [{\"role\": \"user\", \"content\": prompt}],\n",
    "    )\n",
    "    print(response.choices[0].message.content)\n",
    "    time.sleep(1)\n"
   ]
  }
 ],
 "metadata": {
  "kernelspec": {
   "display_name": "base",
   "language": "python",
   "name": "python3"
  },
  "language_info": {
   "codemirror_mode": {
    "name": "ipython",
    "version": 3
   },
   "file_extension": ".py",
   "mimetype": "text/x-python",
   "name": "python",
   "nbconvert_exporter": "python",
   "pygments_lexer": "ipython3",
   "version": "3.9.7"
  },
  "orig_nbformat": 4
 },
 "nbformat": 4,
 "nbformat_minor": 2
}
