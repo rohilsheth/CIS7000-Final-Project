{
 "cells": [
  {
   "cell_type": "code",
   "execution_count": 8,
   "metadata": {},
   "outputs": [],
   "source": [
    "from models import Complaint\n",
    "import pickle\n",
    "\n",
    "# unpickle complaints.pkl\n",
    "with open('complaints.pkl', 'rb') as f:\n",
    "    complaints = pickle.load(f)"
   ]
  },
  {
   "cell_type": "code",
   "execution_count": 9,
   "metadata": {},
   "outputs": [],
   "source": [
    "PAST_MEDICAL_HISTORY_TYPES = {\n",
    "    \"Hypertension\",\n",
    "    \"Diabetes mellitus\",\n",
    "    \"Hyperlipidemia\",\n",
    "    \"Coronary artery disease\",\n",
    "    \"Atrial fibrillation\",\n",
    "    \"Congestive heart failure\",\n",
    "    \"Chronic kidney disease\",\n",
    "    \"Chronic obstructive pulmonary disease\",\n",
    "    \"Asthma\",\n",
    "    \"Stroke\",\n",
    "    \"Cancer\",\n",
    "    \"Depression\",\n",
    "    \"Anxiety\",\n",
    "    \"Schizophrenia\",\n",
    "    \"Bipolar disorder\",\n",
    "    \"Alcohol abuse\",\n",
    "    \"Drug abuse\",\n",
    "    \"Smoking\",\n",
    "    \"Obesity\",\n",
    "    \"Edema\",\n",
    "    \"Hypothyroidism\",\n",
    "    \"Dementia\",\n",
    "    \"Pneumonia\",\n",
    "}"
   ]
  },
  {
   "cell_type": "code",
   "execution_count": 10,
   "metadata": {},
   "outputs": [],
   "source": [
    "NOTE_GEN_SYSTEM_PROMPT = \"\"\"\n",
    "You are SynthMedGPT, a bot that generates synthetic medical data. You specifically focus on discarge notes. You insert data that is passed to you, but otherwise you should generate random but sensible data in all other fields. This is the format of your output:\n",
    "\n",
    "Name:  ___                    Unit No:   ___\n",
    " \n",
    "Admission Date:  ___              Discharge Date:   ___\n",
    " \n",
    "Date of Birth:  ___             Sex:   ___\n",
    " \n",
    "Service: ___\n",
    "\n",
    "Allergies: \n",
    "___\n",
    "\n",
    "Attending: ___.\n",
    " \n",
    "Chief Complaint:\n",
    "___\n",
    "\n",
    "Major Surgical or Invasive Procedure:\n",
    "___\n",
    " \n",
    "History of Present Illness:\n",
    "___\n",
    " \n",
    "Past Medical History:\n",
    "___\n",
    " \n",
    "Social History:\n",
    "___\n",
    "\n",
    "Family History:\n",
    "___\n",
    "\n",
    "Physical Exam:\n",
    "___\n",
    " \n",
    "Pertinent Results:\n",
    "At Admission:\n",
    "___\n",
    "At Discharge:\n",
    "___\n",
    " \n",
    "Brief Hospital Course:\n",
    "___\n",
    " \n",
    "Medications on Admission:\n",
    "___\n",
    " \n",
    "Discharge Medications:\n",
    "___\n",
    " \n",
    "Discharge Disposition:\n",
    "___\n",
    " \n",
    "Facility:\n",
    "___\n",
    " \n",
    "Discharge Diagnosis:\n",
    "___\n",
    " \n",
    "Discharge Condition:\n",
    "Mental Status: ___\n",
    "Level of Consciousness: ___\n",
    "Activity Status: Ambulatory ___\n",
    "\"\"\""
   ]
  },
  {
   "cell_type": "code",
   "execution_count": 11,
   "metadata": {},
   "outputs": [],
   "source": [
    "NOTE_GEN_PROMPT = \"\"\"\n",
    "Generate a synthetic discharge note for a patient with the following information:\n",
    "\n",
    "Chief Complaint: {}\n",
    "Major Surgical or Invasive Procedure: {}\n",
    "Past Medical History: {}\n",
    "\n",
    "All other fields in the discharge note should be randomly generated, but sensible in the overall context.\n",
    "\"\"\""
   ]
  },
  {
   "cell_type": "code",
   "execution_count": 12,
   "metadata": {},
   "outputs": [],
   "source": [
    "import random\n",
    "from openai_client import get_chat_completion\n",
    "\n",
    "notes = []\n",
    "\n",
    "def generate_random_note():\n",
    "    # choose a random complaint from complaints\n",
    "    complaint = random.choice(complaints)\n",
    "\n",
    "    # choose a random procedure from complaint.related_procedures\n",
    "    procedure = random.choice(complaint.related_procedures)\n",
    "\n",
    "    # choose a random number of medical histories from PAST_MEDICAL_HISTORY_TYPES between 0 and 4\n",
    "    num_medical_histories = random.randint(0, 4)\n",
    "    medical_histories = random.sample(PAST_MEDICAL_HISTORY_TYPES, num_medical_histories)\n",
    "\n",
    "    response = get_chat_completion(\n",
    "        messages=[\n",
    "                {\"role\": \"system\", \"content\": NOTE_GEN_SYSTEM_PROMPT},\n",
    "                {\"role\": \"user\", \"content\": NOTE_GEN_PROMPT.format(complaint, procedure, medical_histories)},\n",
    "        ]\n",
    "    )\n",
    "\n",
    "    return response.choices[0][\"message\"][\"content\"]"
   ]
  },
  {
   "cell_type": "code",
   "execution_count": 14,
   "metadata": {},
   "outputs": [
    {
     "name": "stderr",
     "output_type": "stream",
     "text": [
      "/var/folders/l4/7fwz9csx1vx2gyq650rpccn80000gn/T/ipykernel_47879/3981320709.py:15: DeprecationWarning: Sampling from a set deprecated\n",
      "since Python 3.9 and will be removed in a subsequent version.\n",
      "  medical_histories = random.sample(PAST_MEDICAL_HISTORY_TYPES, num_medical_histories)\n"
     ]
    }
   ],
   "source": [
    "for i in range(30):\n",
    "    notes.append(generate_random_note())"
   ]
  },
  {
   "cell_type": "code",
   "execution_count": 16,
   "metadata": {},
   "outputs": [],
   "source": [
    "# save the notes in a csv delimited by $\n",
    "\n",
    "with open('notes.csv', 'w') as f:\n",
    "    for note in notes:\n",
    "        f.write(note)\n",
    "        f.write('$')"
   ]
  },
  {
   "cell_type": "code",
   "execution_count": null,
   "metadata": {},
   "outputs": [],
   "source": [
    "# pickle the notes\n",
    "\n",
    "with open('notes.pkl', 'wb') as f:\n",
    "    pickle.dump(notes, f)"
   ]
  }
 ],
 "metadata": {
  "kernelspec": {
   "display_name": "Python 3",
   "language": "python",
   "name": "python3"
  },
  "language_info": {
   "codemirror_mode": {
    "name": "ipython",
    "version": 3
   },
   "file_extension": ".py",
   "mimetype": "text/x-python",
   "name": "python",
   "nbconvert_exporter": "python",
   "pygments_lexer": "ipython3",
   "version": "3.10.4"
  },
  "orig_nbformat": 4
 },
 "nbformat": 4,
 "nbformat_minor": 2
}
