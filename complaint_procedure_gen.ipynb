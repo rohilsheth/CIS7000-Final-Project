{
 "cells": [
  {
   "cell_type": "code",
   "execution_count": null,
   "metadata": {},
   "outputs": [],
   "source": [
    "from openai_client import get_chat_completion\n",
    "from models import Complaint\n",
    "from typing import List\n",
    "\n",
    "COMPLAINT_SYSTEM_MESSAGE = \"\"\"\n",
    "You are SynthMedGPT, a bot that generates synthetic medical data. Your task today is to generate a list of possible complaints for a patient, as well as one ore more highly relevant procedures a doctor might initiate to address their complaint. Your outputs should be in the following format:\n",
    "\n",
    "Complaint: [complaint] Procedures: [procedure1], [procedure2], [procedure3]\n",
    "Complaint: [complaint] Procedures: [procedure1], [procedure2], [procedure3]\n",
    "\"\"\"\n",
    "\n",
    "COMPLAINT_PROMPT = \"\"\"\n",
    "Generate for me a list of 50 complaint-procedure pairs. Do not number the new lines.\n",
    "\"\"\"\n",
    "\n",
    "def parse_complaint(complaint: str) -> Complaint:\n",
    "    # Convert a string of form \"Complaint: [complaint] Procedures: [procedure1], [procedure2], [procedure3]\" into a Complaint object.\n",
    "    complaint = complaint.strip()\n",
    "    complaint = complaint.replace(\"Complaint: \", \"\")\n",
    "    complaint, procedures = complaint.split(\" Procedures: \")\n",
    "    procedures = procedures.split(\", \")\n",
    "    return Complaint(\n",
    "        complaint=complaint, \n",
    "        related_procedures=procedures)\n",
    "\n",
    "def generate_complaint_strings() -> List[str]:\n",
    "    response = get_chat_completion(\n",
    "        messages=[\n",
    "                {\"role\": \"system\", \"content\": COMPLAINT_SYSTEM_MESSAGE},\n",
    "                {\"role\": \"user\", \"content\": COMPLAINT_PROMPT},\n",
    "        ]\n",
    "    )\n",
    "    return response.choices[0][\"message\"][\"content\"].split(\"\\n\")\n"
   ]
  },
  {
   "cell_type": "code",
   "execution_count": null,
   "metadata": {},
   "outputs": [],
   "source": [
    "complaints = []"
   ]
  },
  {
   "cell_type": "code",
   "execution_count": null,
   "metadata": {},
   "outputs": [],
   "source": [
    "for i in range(20):\n",
    "    complaint_strings = generate_complaint_strings()\n",
    "    for complaint_string in complaint_strings:\n",
    "        try:\n",
    "            parsed_complaint = parse_complaint(complaint_string)\n",
    "            print(f'Successfully parsed string for complaint: {parsed_complaint.complaint}')\n",
    "            complaints.append(parsed_complaint)\n",
    "        except:\n",
    "            print(f'Failed to parse string for complaint: {parsed_complaint.complaint}')"
   ]
  },
  {
   "cell_type": "code",
   "execution_count": null,
   "metadata": {},
   "outputs": [],
   "source": [
    "# pickle the complaints array\n",
    "import pickle\n",
    "\n",
    "with open('complaints.pkl', 'wb') as f:\n",
    "    pickle.dump(complaints, f)"
   ]
  }
 ],
 "metadata": {
  "kernelspec": {
   "display_name": "Python 3",
   "language": "python",
   "name": "python3"
  },
  "language_info": {
   "codemirror_mode": {
    "name": "ipython",
    "version": 3
   },
   "file_extension": ".py",
   "mimetype": "text/x-python",
   "name": "python",
   "nbconvert_exporter": "python",
   "pygments_lexer": "ipython3",
   "version": "3.10.4"
  },
  "orig_nbformat": 4
 },
 "nbformat": 4,
 "nbformat_minor": 2
}
